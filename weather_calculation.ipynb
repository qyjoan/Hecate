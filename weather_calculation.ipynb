{
 "cells": [
  {
   "cell_type": "code",
   "execution_count": 1,
   "metadata": {
    "collapsed": false
   },
   "outputs": [],
   "source": [
    "import pandas as pd\n",
    "import numpy\n",
    "from matplotlib import pyplot as plt\n",
    "%matplotlib inline"
   ]
  },
  {
   "cell_type": "code",
   "execution_count": 2,
   "metadata": {
    "collapsed": false
   },
   "outputs": [],
   "source": [
    "df = pd.read_csv('all_live.txt')"
   ]
  },
  {
   "cell_type": "code",
   "execution_count": 3,
   "metadata": {
    "collapsed": false
   },
   "outputs": [
    {
     "data": {
      "text/plain": [
       "Index([u'created_date', u'departure_day', u'departure_dt', u'duration', u'end_address', u'end_address_weather', u'route_type', u'start_address', u'start_address_weather'], dtype='object')"
      ]
     },
     "execution_count": 3,
     "metadata": {},
     "output_type": "execute_result"
    }
   ],
   "source": [
    "df.columns"
   ]
  },
  {
   "cell_type": "code",
   "execution_count": 4,
   "metadata": {
    "collapsed": false
   },
   "outputs": [
    {
     "data": {
      "text/plain": [
       "array(['Snow', 'Rain', 'Clouds', 'Clear'], dtype=object)"
      ]
     },
     "execution_count": 4,
     "metadata": {},
     "output_type": "execute_result"
    }
   ],
   "source": [
    "df.start_address_weather.unique()"
   ]
  },
  {
   "cell_type": "code",
   "execution_count": 5,
   "metadata": {
    "collapsed": true
   },
   "outputs": [],
   "source": [
    "df['weather_ind'] = df.start_address_weather.apply(lambda x: x if x in ['Rain','Snow'] else 'Clear')"
   ]
  },
  {
   "cell_type": "code",
   "execution_count": 6,
   "metadata": {
    "collapsed": false,
    "scrolled": true
   },
   "outputs": [
    {
     "name": "stdout",
     "output_type": "stream",
     "text": [
      "(87, 10)\n",
      "(16, 10)\n",
      "(168, 10)\n"
     ]
    }
   ],
   "source": [
    "print df[df.weather_ind == 'Rain'].shape\n",
    "print df[df.weather_ind == 'Snow'].shape\n",
    "print df[df.weather_ind == 'Clear'].shape"
   ]
  },
  {
   "cell_type": "code",
   "execution_count": 7,
   "metadata": {
    "collapsed": false
   },
   "outputs": [
    {
     "data": {
      "text/plain": [
       "start_address                                       weather_ind\n",
       "1001 Metro Center Blvd, Foster City, CA 94404, USA  Clear          2392.000000\n",
       "                                                    Rain           1439.200000\n",
       "104 8th St, Belgrade, MT 59714, USA                 Clear           985.666667\n",
       "                                                    Rain           1074.000000\n",
       "105 River St S, Santa Cruz, CA 95060, USA           Clear           194.800000\n",
       "12 Corporate Blvd NE, Atlanta, GA 30329, USA        Clear           732.333333\n",
       "                                                    Rain            771.000000\n",
       "1470 Walnut St, Boulder, CO 80302, USA              Clear          1907.000000\n",
       "1610 23rd Ave, San Francisco, CA 94122, USA         Clear          1499.000000\n",
       "                                                    Rain           1357.000000\n",
       "1714 Stockton St, San Francisco, CA 94133, USA      Clear          1641.000000\n",
       "                                                    Rain           1243.600000\n",
       "1784 S Seton Ave, Gilbert, AZ 85295, USA            Clear          1826.000000\n",
       "1801 W Bakerview Rd, Bellingham, WA 98226, USA      Clear           805.000000\n",
       "                                                    Snow            809.500000\n",
       "...\n",
       "Cedar St & Edith St, Berkeley, CA 94703, USA                         Clear          4899.000000\n",
       "                                                                     Rain           3459.000000\n",
       "Civic Center, San Francisco, CA, USA                                 Clear          1481.000000\n",
       "                                                                     Rain           1171.500000\n",
       "E Main St & N Church Ave, Bozeman, MT 59715, USA                     Clear           614.500000\n",
       "                                                                     Rain            589.000000\n",
       "Evergreen Way & Aspen Way, Nederland, CO 80466, USA                  Clear          1855.000000\n",
       "                                                                     Snow           1881.000000\n",
       "San Bruno BART-Bay 5, San Bruno, CA 94066, USA                       Clear          2383.000000\n",
       "                                                                     Rain           1277.833333\n",
       "                                                                     Snow           1141.000000\n",
       "Skysong Apartments, 1301 N Scottsdale Rd, Scottsdale, AZ 85257, USA  Clear          1792.692308\n",
       "St Michaels, Longstanton, Cambridge, Cambridgeshire CB24 3BZ, UK     Rain           1086.333333\n",
       "Sunnyvale, CA, USA                                                   Clear          4208.333333\n",
       "Taronga Zoo, Athol Wharf Rd, Mosman NSW, Australia                   Clear          3014.285714\n",
       "Name: duration, Length: 62, dtype: float64"
      ]
     },
     "execution_count": 7,
     "metadata": {},
     "output_type": "execute_result"
    }
   ],
   "source": [
    "df.groupby(['start_address', 'weather_ind']).duration.mean()"
   ]
  },
  {
   "cell_type": "code",
   "execution_count": 28,
   "metadata": {
    "collapsed": false
   },
   "outputs": [
    {
     "data": {
      "text/plain": [
       "weather_ind\n",
       "Clear          1362.238095\n",
       "Rain           1389.011494\n",
       "Snow           1081.437500\n",
       "Name: duration, dtype: float64"
      ]
     },
     "execution_count": 28,
     "metadata": {},
     "output_type": "execute_result"
    }
   ],
   "source": [
    "df.groupby(['weather_ind']).duration.mean()"
   ]
  },
  {
   "cell_type": "markdown",
   "metadata": {},
   "source": [
    "## Group by address and weather logic"
   ]
  },
  {
   "cell_type": "code",
   "execution_count": 38,
   "metadata": {
    "collapsed": false
   },
   "outputs": [
    {
     "data": {
      "text/plain": [
       "(62,)"
      ]
     },
     "execution_count": 38,
     "metadata": {},
     "output_type": "execute_result"
    }
   ],
   "source": [
    "a = df.groupby(['start_address', 'weather_ind']).duration.mean()\n",
    "a.shape"
   ]
  },
  {
   "cell_type": "code",
   "execution_count": 39,
   "metadata": {
    "collapsed": false
   },
   "outputs": [],
   "source": [
    "clear_rec = {}\n",
    "for ix in a.index:\n",
    "    add, w = ix\n",
    "    if w == 'Clear':\n",
    "        clear_rec[add] = a[ix]"
   ]
  },
  {
   "cell_type": "code",
   "execution_count": 40,
   "metadata": {
    "collapsed": false
   },
   "outputs": [
    {
     "name": "stdout",
     "output_type": "stream",
     "text": [
      "37\n"
     ]
    }
   ],
   "source": [
    "print len(clear_rec)"
   ]
  },
  {
   "cell_type": "code",
   "execution_count": 41,
   "metadata": {
    "collapsed": false
   },
   "outputs": [
    {
     "name": "stdout",
     "output_type": "stream",
     "text": [
      "19\n"
     ]
    }
   ],
   "source": [
    "rain_rec = {}\n",
    "for ix in a.index:\n",
    "    add, w = ix\n",
    "    if w == 'Rain':\n",
    "        rain_rec[add] = a[ix]\n",
    "print len(rain_rec)"
   ]
  },
  {
   "cell_type": "code",
   "execution_count": 42,
   "metadata": {
    "collapsed": false
   },
   "outputs": [
    {
     "name": "stdout",
     "output_type": "stream",
     "text": [
      "6\n"
     ]
    }
   ],
   "source": [
    "snow_rec = {}\n",
    "for ix in a.index:\n",
    "    add, w = ix\n",
    "    if w == 'Snow':\n",
    "        snow_rec[add] = a[ix]\n",
    "print len(snow_rec)"
   ]
  },
  {
   "cell_type": "code",
   "execution_count": 43,
   "metadata": {
    "collapsed": true
   },
   "outputs": [],
   "source": [
    "assert len(clear_rec)+len(rain_rec)+len(snow_rec) == a.shape[0]"
   ]
  },
  {
   "cell_type": "code",
   "execution_count": 50,
   "metadata": {
    "collapsed": true
   },
   "outputs": [],
   "source": [
    "comp_rain_clear = {}\n",
    "count = 0\n",
    "for add in rain_rec:\n",
    "    if add in clear_rec:\n",
    "        comp_rain_clear[add] = rain_rec[add] - clear_rec[add]"
   ]
  },
  {
   "cell_type": "code",
   "execution_count": 56,
   "metadata": {
    "collapsed": false
   },
   "outputs": [
    {
     "data": {
      "text/plain": [
       "{'1001 Metro Center Blvd, Foster City, CA 94404, USA': -952.79999999999995,\n",
       " '104 8th St, Belgrade, MT 59714, USA': 88.333333333333371,\n",
       " '12 Corporate Blvd NE, Atlanta, GA 30329, USA': 38.666666666666629,\n",
       " '1610 23rd Ave, San Francisco, CA 94122, USA': -142.0,\n",
       " '1714 Stockton St, San Francisco, CA 94133, USA': -397.40000000000009,\n",
       " '204 Ravens Crest Dr, Plainsboro Township, NJ 08536, USA': -20.111111111111086,\n",
       " '300 Cambridge Ave, Palo Alto, CA 94306, USA': -383.59999999999991,\n",
       " '448 E Main St, Bozeman, MT 59715, USA': 37.9375,\n",
       " '502 Carnegie Center, Princeton, NJ 08540, USA': -8.0795454545454959,\n",
       " '7700 Gateway Blvd, Newark, CA 94560, USA': -863.33333333333326,\n",
       " 'Cambridge, Cambridgeshire CB3 0HB, UK': -49.333333333333258,\n",
       " 'Cedar St & Edith St, Berkeley, CA 94703, USA': -1440.0,\n",
       " 'Civic Center, San Francisco, CA, USA': -309.5,\n",
       " 'E Main St & N Church Ave, Bozeman, MT 59715, USA': -25.5,\n",
       " 'San Bruno BART-Bay 5, San Bruno, CA 94066, USA': -1105.1666666666667}"
      ]
     },
     "execution_count": 56,
     "metadata": {},
     "output_type": "execute_result"
    }
   ],
   "source": [
    "comp_rain_clear"
   ]
  },
  {
   "cell_type": "code",
   "execution_count": 85,
   "metadata": {
    "collapsed": false
   },
   "outputs": [
    {
     "name": "stdout",
     "output_type": "stream",
     "text": [
      "minutes delayed in rain: 1.03189183502 (61.913510101 seconds)\n"
     ]
    }
   ],
   "source": [
    "sec = 0\n",
    "for k in comp_rain_clear:\n",
    "    if 'CA' not in k:\n",
    "        sec += comp_rain_clear[k]\n",
    "#88.3+38.6-20+37.93-8.079-49.3-25\n",
    "print \"minutes delayed in rain: {} ({} seconds)\".format(sec / 60, sec)"
   ]
  },
  {
   "cell_type": "code",
   "execution_count": 82,
   "metadata": {
    "collapsed": false
   },
   "outputs": [
    {
     "name": "stdout",
     "output_type": "stream",
     "text": [
      "['Cambridge, Cambridgeshire CB3 0HB, UK, -87.3333333333', '1801 W Bakerview Rd, Bellingham, WA 98226, USA, 4.5', 'Evergreen Way & Aspen Way, Nederland, CO 80466, USA, 26.0', 'San Bruno BART-Bay 5, San Bruno, CA 94066, USA, -1242.0']\n"
     ]
    }
   ],
   "source": [
    "comp_snow_clear = {}\n",
    "count = 0\n",
    "for add in snow_rec:\n",
    "    if add in clear_rec:\n",
    "        comp_snow_clear[add] = snow_rec[add] - clear_rec[add]\n",
    "print [\"{}, {}\".format(k, comp_snow_clear[k]) for k in comp_snow_clear]"
   ]
  },
  {
   "cell_type": "code",
   "execution_count": 84,
   "metadata": {
    "collapsed": false
   },
   "outputs": [
    {
     "name": "stdout",
     "output_type": "stream",
     "text": [
      "['Cambridge, Cambridgeshire CB3 0HB, UK, -38.0', 'Cascade St & Sanders Ave, Bozeman, MT 59718, USA, 76.5', 'San Bruno BART-Bay 5, San Bruno, CA 94066, USA, -136.833333333']\n"
     ]
    }
   ],
   "source": [
    "comp_snow_rain = {}\n",
    "count = 0\n",
    "for add in snow_rec:\n",
    "    if add in rain_rec:\n",
    "        comp_snow_rain[add] = snow_rec[add] - rain_rec[add]\n",
    "print [\"{}, {}\".format(k, comp_snow_rain[k]) for k in comp_snow_rain]"
   ]
  },
  {
   "cell_type": "code",
   "execution_count": null,
   "metadata": {
    "collapsed": true
   },
   "outputs": [],
   "source": []
  }
 ],
 "metadata": {
  "kernelspec": {
   "display_name": "Python 2",
   "language": "python",
   "name": "python2"
  },
  "language_info": {
   "codemirror_mode": {
    "name": "ipython",
    "version": 2
   },
   "file_extension": ".py",
   "mimetype": "text/x-python",
   "name": "python",
   "nbconvert_exporter": "python",
   "pygments_lexer": "ipython2",
   "version": "2.7.11"
  }
 },
 "nbformat": 4,
 "nbformat_minor": 0
}
